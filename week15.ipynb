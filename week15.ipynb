{
 "cells": [
  {
   "cell_type": "markdown",
   "id": "58a1c952-5d6d-4ee1-b634-466ec3f89d58",
   "metadata": {},
   "source": [
    "#### Ex 15.0"
   ]
  },
  {
   "cell_type": "code",
   "execution_count": null,
   "id": "c44585f5-d21f-4dad-8e66-a5e017f5cb75",
   "metadata": {},
   "outputs": [],
   "source": [
    "import pandas as pd\n",
    "import numpy as np\n",
    "import tensorflow as tf\n",
    "\n",
    "from sklearn.metrics import accuracy_score\n",
    "from sklearn.ensemble import GradientBoostingClassifier\n",
    "\n",
    "from sklearn.model_selection import GridSearchCV\n",
    "from sklearn.metrics import make_scorer\n",
    "\n",
    "from xgboost import XGBClassifier\n",
    "from xgboost import plot_importance\n",
    "\n",
    "import matplotlib.pyplot as plt\n",
    "import seaborn as sns\n",
    "sns.set_style('whitegrid')\n",
    "%matplotlib inline\n",
    "\n",
    "# Custom function for plotting 1D plots\n",
    "def plot_1d(x, c=\"Survived\"):\n",
    "    y = \"stub\"\n",
    "    df[y] = 0\n",
    "    plot_2d(x, y)\n",
    "    del df[y]\n",
    "\n",
    "# Custom function for plotting 2D plots\n",
    "def plot_2d(x, y, c=\"Survived\"):\n",
    "    df.groupby([x, y])[c]\\\n",
    "        .mean()\\\n",
    "        .reset_index()\\\n",
    "        .plot(kind='scatter', x=x, y=y, c=c, colormap='viridis')\n",
    "\n",
    "# Custom funciton for plotting 3D plots\n",
    "def plot_3d(x, y, z, c=\"Survived\"):\n",
    "    fig = plt.figure(figsize=(10, 7))\n",
    "    ax = fig.add_subplot(111, projection='3d')\n",
    "\n",
    "    dfm = df.groupby([x, y, z])[c].mean().reset_index()\n",
    "    \n",
    "    # Creating the plot\n",
    "    sc = ax.scatter(xs=dfm[x], ys=dfm[y], zs=dfm[z], c=dfm[c], cmap='viridis', edgecolor='k', s=40, alpha=0.7)\n",
    "    \n",
    "    # Adding color bar\n",
    "    plt.colorbar(sc, ax=ax, label=c)\n",
    "    \n",
    "    # Setting the labels\n",
    "    ax.set_xlabel(x)\n",
    "    ax.set_ylabel(y)\n",
    "    ax.set_zlabel(z)\n",
    "    \n",
    "    # Title\n",
    "    ax.set_title('3D Scatter Plot')\n",
    "    \n",
    "    plt.show()\n",
    "\n",
    "def plot_predictions(x, y, z, model, df_x, df_y):\n",
    "    # Initialize plot\n",
    "    fig = plt.figure(figsize=(10, 7))\n",
    "    ax = fig.add_subplot(111, projection='3d')\n",
    "    \n",
    "    # Predict on the entire dataset\n",
    "    predictions = model.predict(df_x)\n",
    "    \n",
    "    # Plot correctly classified points\n",
    "    correct_survived = df_x[(df_y == 1) & (predictions == 1)]\n",
    "    correct_not_survived = df_x[(df_y == 0) & (predictions == 0)]\n",
    "    ax.scatter(correct_survived[x], correct_survived[y], correct_survived[z], c='green', marker='o', label='Correctly Survived')\n",
    "    ax.scatter(correct_not_survived[x], correct_not_survived[y], correct_not_survived[z], c='purple', marker='o', label='Correctly Not Survived')\n",
    "    \n",
    "    # Plot incorrectly classified points\n",
    "    incorrect_survived = df_x[(df_y == 1) & (predictions == 0)]\n",
    "    incorrect_not_survived = df_x[(df_y == 0) & (predictions == 1)]\n",
    "    ax.scatter(incorrect_survived[x], incorrect_survived[y], incorrect_survived[z], c='red', marker='x', label='Incorrectly Predicted as Survived')\n",
    "    ax.scatter(incorrect_not_survived[x], incorrect_not_survived[y], incorrect_not_survived[z], c='orange', marker='x', label='Incorrectly Predicted as Not Survived')\n",
    "    \n",
    "    # Set labels\n",
    "    ax.set_xlabel(x)\n",
    "    ax.set_ylabel(y)\n",
    "    ax.set_zlabel(z)\n",
    "    \n",
    "    plt.legend()\n",
    "    plt.show()"
   ]
  },
  {
   "cell_type": "markdown",
   "id": "44b741f3-a574-4bdc-93e8-a6b125487c1f",
   "metadata": {},
   "source": [
    "#### Ex 15.1"
   ]
  },
  {
   "cell_type": "code",
   "execution_count": null,
   "id": "54462a39-ab37-4706-8a12-349d20289d68",
   "metadata": {},
   "outputs": [],
   "source": [
    "df = train_df = pd.read_csv(\"clean_train_titanic.csv\")\n",
    "df"
   ]
  },
  {
   "cell_type": "markdown",
   "id": "c5dd1daa-1a9c-431f-8433-c4ab72a5f44d",
   "metadata": {},
   "source": [
    "#### Ex 15.2"
   ]
  },
  {
   "cell_type": "code",
   "execution_count": null,
   "id": "8cf83572-6ce7-4625-8136-553fea39ad95",
   "metadata": {},
   "outputs": [],
   "source": [
    "Features = ['Parch', 'Pclass', 'SibSp', 'CatSex', 'CatEmbarked', 'CatAge', 'CatFare']\n",
    "Classes = 'Survived'"
   ]
  },
  {
   "cell_type": "markdown",
   "id": "78a5a2f7-9f99-409d-8fa0-4f27e0aef6f6",
   "metadata": {},
   "source": [
    "#### Ex 15.3"
   ]
  },
  {
   "cell_type": "code",
   "execution_count": null,
   "id": "9b6c92dc-d0d1-40b9-93eb-993257201d48",
   "metadata": {},
   "outputs": [],
   "source": [
    "from sklearn.model_selection import train_test_split\n",
    "\n",
    "x = df[Features].values\n",
    "y = df[Classes].values\n",
    "\n",
    "train_x, test_x, train_y, test_y = train_test_split(x, y, test_size = 0.3, random_state = 5, stratify = y)"
   ]
  },
  {
   "cell_type": "markdown",
   "id": "76635e36-d16a-4819-8f6a-9d45d8899b1a",
   "metadata": {},
   "source": [
    "#### Ex 15.4"
   ]
  },
  {
   "cell_type": "code",
   "execution_count": null,
   "id": "a9237a3e-21f6-4c7f-8b17-95b435ca811f",
   "metadata": {},
   "outputs": [],
   "source": [
    "from sklearn.tree import DecisionTreeClassifier\n",
    "\n",
    "# Initialize and train Decision Tree classifier\n",
    "dt = DecisionTreeClassifier()\n",
    "dt.fit(train_x, train_y)\n",
    "\n",
    "# Score the classifier:\n",
    "dt_score = dt.score(test_x, test_y)\n",
    "print(\"Decision Tree Classifier Score:\", dt_score)"
   ]
  },
  {
   "cell_type": "markdown",
   "id": "fc14e1ca-b31b-40b5-bb66-2f7199d14779",
   "metadata": {},
   "source": [
    "#### Ex 15.5"
   ]
  },
  {
   "cell_type": "code",
   "execution_count": null,
   "id": "debffb27-248a-482b-abc7-3f850ecfdd8e",
   "metadata": {},
   "outputs": [],
   "source": [
    "from sklearn.ensemble import RandomForestClassifier\n",
    "\n",
    "# Initialize and train Random Forest classifier\n",
    "rf = RandomForestClassifier()\n",
    "rf.fit(train_x, train_y)\n",
    "\n",
    "# Score the classifier:\n",
    "rf_score = rf.score(test_x, test_y)\n",
    "print(\"Decision Tree Classifier Score:\", rf_score)"
   ]
  },
  {
   "cell_type": "markdown",
   "id": "ff3fd849-f927-4a14-a526-ca18c17579c8",
   "metadata": {},
   "source": [
    "#### Ex 15.6"
   ]
  },
  {
   "cell_type": "code",
   "execution_count": null,
   "id": "ddc256eb-119c-43cc-821f-5f2e2938915f",
   "metadata": {},
   "outputs": [],
   "source": [
    "from sklearn.svm import SVC\n",
    "\n",
    "# Initialize and train SVM classifier\n",
    "svm = SVC()\n",
    "svm.fit(train_x, train_y)\n",
    "\n",
    "# Score the classifier:\n",
    "svm_score = svm.score(test_x, test_y)\n",
    "print(\"SVM Classifier Score:\", svm_score)"
   ]
  },
  {
   "cell_type": "markdown",
   "id": "82910ffe-626b-4022-a9f0-3e67c9fa3a39",
   "metadata": {},
   "source": [
    "#### Ex 15.7"
   ]
  },
  {
   "cell_type": "code",
   "execution_count": null,
   "id": "4584ffb7-5eeb-45e3-ba4b-bd31b1b2c1f9",
   "metadata": {},
   "outputs": [],
   "source": [
    "from sklearn.neighbors import KNeighborsClassifier\n",
    "\n",
    "# Initialize and train KNN classifier\n",
    "knn = KNeighborsClassifier()\n",
    "knn.fit(train_x, train_y)\n",
    "\n",
    "# Score the classifier:\n",
    "knn_score = knn.score(test_x, test_y)\n",
    "print(\"KNN Classifier Score:\", knn_score)"
   ]
  },
  {
   "cell_type": "markdown",
   "id": "f3ef9212-9390-4c9c-a464-d5c30f958314",
   "metadata": {},
   "source": [
    "#### Ex 15.8"
   ]
  },
  {
   "cell_type": "code",
   "execution_count": null,
   "id": "3e70c021-bd23-47f2-8471-6e0f32b2ddf2",
   "metadata": {},
   "outputs": [],
   "source": [
    "import xgboost as xgb\n",
    "\n",
    "# Initialize and train XGBoost classifier\n",
    "xgb_clf = xgb.XGBClassifier(n_estimators=100, learning_rate=0.5)\n",
    "xgb_clf.fit(train_x, train_y)\n",
    "xgb_clf.get_booster().feature_names = Features\n",
    "\n",
    "# Predict and calculate accuracy\n",
    "xgb_clf_score = xgb_clf.score(test_x, test_y)\n",
    "print(\"XGBoost Classifier Score:\", xgb_clf_score)"
   ]
  },
  {
   "cell_type": "markdown",
   "id": "3f305c3b-bbc6-4cfd-b5b3-8743ead14df3",
   "metadata": {},
   "source": [
    "#### Ex 15.8.1"
   ]
  },
  {
   "cell_type": "code",
   "execution_count": null,
   "id": "c7186c02-bfee-4d21-b3f8-629f6665fb51",
   "metadata": {},
   "outputs": [],
   "source": [
    "from xgboost import plot_tree\n",
    "\n",
    "from matplotlib.pylab import rcParams\n",
    "rcParams['figure.figsize'] = 80,50\n",
    "\n",
    "plot_tree(xgb_clf, num_trees=0, rankdir='LR')"
   ]
  },
  {
   "cell_type": "markdown",
   "id": "8af6ced8-1082-48e1-84fc-32991fb12e61",
   "metadata": {},
   "source": [
    "#### Ex 15.9"
   ]
  },
  {
   "cell_type": "code",
   "execution_count": null,
   "id": "3ee9d29b-9ada-4735-b6f1-45db142d9a58",
   "metadata": {},
   "outputs": [],
   "source": [
    "from tensorflow.keras.utils import to_categorical\n",
    "\n",
    "# Convert labels to categorical\n",
    "train_y_cat = to_categorical(train_y, num_classes=2)\n",
    "test_y_cat = to_categorical(test_y, num_classes=2)\n",
    "\n",
    "train_y_cat"
   ]
  },
  {
   "cell_type": "markdown",
   "id": "47477506-9153-43d0-a07d-5c8591d774cf",
   "metadata": {},
   "source": [
    "#### Ex 15.10"
   ]
  },
  {
   "cell_type": "code",
   "execution_count": null,
   "id": "318eb28e-4f66-4d4b-9ffc-03d741480dab",
   "metadata": {},
   "outputs": [],
   "source": [
    "from tensorflow.keras.models import Sequential\n",
    "from tensorflow.keras.layers import Dense, Flatten, Dropout\n",
    "from tensorflow.keras.optimizers import Adam\n",
    "from tensorflow.keras.utils import to_categorical\n",
    "\n",
    "# # Convert labels to categorical\n",
    "\n",
    "model = Sequential([\n",
    "    Dense(2, activation='softmax'),\n",
    "])\n",
    "\n",
    "# Compile the model\n",
    "model.compile(optimizer=\"adam\", loss='categorical_crossentropy', metrics=['accuracy'])\n",
    "\n",
    "# Train the model\n",
    "model.fit(train_x, train_y_cat, validation_data=(test_x, test_y_cat), epochs=50, verbose=0)\n",
    "\n",
    "# Evaluate the model\n",
    "score = model.evaluate(test_x, test_y_cat, verbose=0)\n",
    "print(f'Model accuracy: {score[1]}')"
   ]
  },
  {
   "cell_type": "markdown",
   "id": "f87d9742-2525-473b-9bf8-8609f382ecf6",
   "metadata": {},
   "source": [
    "#### 15.10.1"
   ]
  },
  {
   "cell_type": "code",
   "execution_count": null,
   "id": "62568ab0-5066-48d2-8088-685b72584e59",
   "metadata": {},
   "outputs": [],
   "source": [
    "from tensorflow.keras.utils import plot_model\n",
    "\n",
    "# Generate a plot of your model\n",
    "plot_model(model, show_shapes=True, show_layer_names=True)"
   ]
  },
  {
   "cell_type": "markdown",
   "id": "4f7ee819-b64a-42b8-929e-3f8381d0e883",
   "metadata": {},
   "source": [
    "#### Ex 15.10.2"
   ]
  },
  {
   "cell_type": "code",
   "execution_count": null,
   "id": "ea1dd7cb-de23-4c3a-aeb9-188b48334b0b",
   "metadata": {},
   "outputs": [],
   "source": [
    "weights, biases = model.layers[0].get_weights()\n",
    "\n",
    "import matplotlib.pyplot as plt\n",
    "import seaborn as sns\n",
    "\n",
    "# Visualize the weights\n",
    "plt.figure(figsize=(10, 8))\n",
    "sns.heatmap(weights, annot=True, fmt=\".2f\", cmap=\"viridis\")\n",
    "plt.title(\"Weights Visualization\")\n",
    "plt.xlabel(\"Output Neurons\")\n",
    "plt.ylabel(\"Input Features\")\n",
    "plt.yticks(ticks=plt.yticks()[0], labels=Features)\n",
    "plt.show()\n"
   ]
  },
  {
   "cell_type": "markdown",
   "id": "e105cf3a-d421-4d43-b85c-d0ac71bd5dae",
   "metadata": {},
   "source": [
    "#### Ex 15.11"
   ]
  },
  {
   "cell_type": "code",
   "execution_count": null,
   "id": "bea158a1-7816-4110-811a-dc62f7a4d7c9",
   "metadata": {},
   "outputs": [],
   "source": [
    "import tensorflow as tf\n",
    "from tensorflow.keras.models import Sequential\n",
    "from tensorflow.keras.layers import Dense, Conv2D, MaxPooling2D, Flatten, Dropout\n",
    "from tensorflow.keras.optimizers import Adam\n",
    "from tensorflow.keras.callbacks import EarlyStopping\n",
    "\n",
    "# Reshape x to have a 'channel' dimension and approximate square form for CNN input\n",
    "# Here, we're creating a 3x3 image for each sample. This requires padding as 3*3=9 > len(Features)\n",
    "# Since 9 is the next square number that can accommodate 7 features\n",
    "# Calculate padding size to reach the next square number that fits all features\n",
    "pad_size = 9 - len(Features)\n",
    "\n",
    "# Pad the features to have 9 values per sample\n",
    "x_padded = np.pad(x, [(0, 0), (0, pad_size)], mode='constant')\n",
    "x_padded = x_padded.astype(\"float32\")\n",
    "\n",
    "# Reshape to a 3x3 structure, adding an additional dimension for channels\n",
    "x_reshaped = x_padded.reshape(-1, 3, 3, 1)\n",
    "\n",
    "# Split the data\n",
    "cnn_train_x, cnn_test_x, cnn_train_y, cnn_test_y = train_test_split(x_reshaped, y, test_size=0.3, random_state=5, stratify=y)\n",
    "\n",
    "# Define the CNN model\n",
    "model = Sequential([\n",
    "    Conv2D(32, kernel_size=(2, 2)),\n",
    "    Flatten(),\n",
    "    Dense(2, activation='softmax'),\n",
    "])\n",
    "\n",
    "# Compile the model\n",
    "model.compile(optimizer=\"adam\", loss='categorical_crossentropy', metrics=['accuracy'])\n",
    "\n",
    "# Train the model\n",
    "model.fit(cnn_train_x, train_y_cat, validation_data=(cnn_test_x, test_y_cat), epochs=20, verbose=0)\n",
    "\n",
    "# Evaluate the model\n",
    "score = model.evaluate(cnn_test_x, test_y_cat, verbose=0)\n",
    "print(f'Model accuracy: {score[1]}')"
   ]
  },
  {
   "cell_type": "markdown",
   "id": "6cf5709a-91b2-49f2-8381-0e09c05f70f3",
   "metadata": {},
   "source": [
    "#### 15.11.1"
   ]
  },
  {
   "cell_type": "code",
   "execution_count": null,
   "id": "ca9ecd8c-b1ab-4843-818f-161ad94feae2",
   "metadata": {},
   "outputs": [],
   "source": [
    "from tensorflow.keras.utils import plot_model\n",
    "\n",
    "# Generate a plot of your model\n",
    "plot_model(model, show_shapes=True, show_layer_names=True)"
   ]
  },
  {
   "cell_type": "markdown",
   "id": "baefc3fa-9f9e-4ea1-88ac-fabc08b7ecfe",
   "metadata": {},
   "source": [
    "#### 15.12"
   ]
  },
  {
   "cell_type": "code",
   "execution_count": null,
   "id": "ca170cc9-1209-4a13-9c6a-ab28d1dfe900",
   "metadata": {},
   "outputs": [],
   "source": [
    "df = train_df = pd.read_csv(\"extra_clean_train_titanic.csv\")\n",
    "df"
   ]
  },
  {
   "cell_type": "markdown",
   "id": "95b0600f-84b7-4c87-828d-b43c77a21eef",
   "metadata": {},
   "source": [
    "#### 15.12.1"
   ]
  },
  {
   "cell_type": "code",
   "execution_count": null,
   "id": "a67fd02d-546f-49f9-ae9a-e60b61d278d2",
   "metadata": {},
   "outputs": [],
   "source": [
    "Features = ['Parch', 'Pclass', 'SibSp', 'CatSex', 'CatEmbarked', 'CatAge', 'CatFare']\n",
    "Classes = 'Survived'\n",
    "\n",
    "x = df[Features].values\n",
    "y = df[Classes].values\n",
    "\n",
    "train_x, test_x, train_y, test_y = train_test_split(x, y, test_size = 0.3, random_state = 5, stratify = y)\n",
    "\n",
    "# Categoricals needed for deep-learning\n",
    "train_y_cat = to_categorical(train_y, num_classes=2)\n",
    "test_y_cat = to_categorical(test_y, num_classes=2)"
   ]
  },
  {
   "cell_type": "code",
   "execution_count": null,
   "id": "e150745d-2ccd-474c-b0a0-ac513373495d",
   "metadata": {},
   "outputs": [],
   "source": []
  }
 ],
 "metadata": {
  "kernelspec": {
   "display_name": "Python 3 (ipykernel)",
   "language": "python",
   "name": "python3"
  },
  "language_info": {
   "codemirror_mode": {
    "name": "ipython",
    "version": 3
   },
   "file_extension": ".py",
   "mimetype": "text/x-python",
   "name": "python",
   "nbconvert_exporter": "python",
   "pygments_lexer": "ipython3",
   "version": "3.8.10"
  }
 },
 "nbformat": 4,
 "nbformat_minor": 5
}
